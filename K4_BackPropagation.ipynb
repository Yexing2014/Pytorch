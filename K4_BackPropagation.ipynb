{
 "cells": [
  {
   "cell_type": "code",
   "execution_count": 23,
   "metadata": {},
   "outputs": [],
   "source": [
    "import torch\n",
    "import matplotlib.pyplot as plt\n",
    "\n",
    "# data set\n",
    "x_data = [1.0, 2.0, 3.0]  # learn time (hours/day)\n",
    "y_data = [2.0, 4.0, 6.0]  # score\n",
    "\n",
    "# def list\n",
    "loss_list = []\n",
    "epoch_list = []\n",
    "\n",
    "lr = 0.01\n",
    "\n",
    "# def w\n",
    "w1 = torch.Tensor([1.0])  # tensor var\n",
    "w2 = torch.Tensor([1.0])  \n",
    "b = torch.Tensor([1.0])\n",
    "w1.requires_grad = True    # grad\n",
    "w2.requires_grad = True    # grad\n",
    "b.requires_grad = True\n",
    "\n",
    "# def model\n",
    "def forward(x):\n",
    "    return x * x * w1 + x * w2 + b\n",
    "\n",
    "def loss(x,y):\n",
    "    y_pred = forward(x)\n",
    "    return (y_pred - y) ** 2\n"
   ]
  },
  {
   "cell_type": "code",
   "execution_count": 24,
   "metadata": {},
   "outputs": [
    {
     "name": "stdout",
     "output_type": "stream",
     "text": [
      "predict (before training) 4 21.0\n",
      "predict (after training) 4 8.544171333312988\n"
     ]
    }
   ],
   "source": [
    "print(\"predict (before training)\", 4, forward(4).item())\n",
    "\n",
    "for epoch in range(100):\n",
    "    for x,y in zip(x_data, y_data):\n",
    "        l = loss(x,y)\n",
    "        l.backward() # 做完backward，计算图释放\n",
    "\n",
    "        loss_list.append(l.item())\n",
    "        epoch_list.append(epoch)\n",
    "\n",
    "        # refresh the parameter\n",
    "        w1.data = w1.data - lr*w1.grad.data\n",
    "        w2.data = w2.data - lr*w2.grad.data\n",
    "        b.data = b.data - lr*b.grad.data\n",
    "\n",
    "        # clear grad\n",
    "        w1.grad.data.zero_()\n",
    "        w2.grad.data.zero_()\n",
    "        b.grad.data.zero_()\n",
    "\n",
    "print(\"predict (after training)\", 4, forward(4).item())\n",
    "\n",
    "# 最后结果与实际仍相差略大，原因是模型不合适，在深度神经网络中，模型的选择非常重要"
   ]
  }
 ],
 "metadata": {
  "kernelspec": {
   "display_name": "pytorch",
   "language": "python",
   "name": "python3"
  },
  "language_info": {
   "codemirror_mode": {
    "name": "ipython",
    "version": 3
   },
   "file_extension": ".py",
   "mimetype": "text/x-python",
   "name": "python",
   "nbconvert_exporter": "python",
   "pygments_lexer": "ipython3",
   "version": "3.9.7"
  },
  "orig_nbformat": 4,
  "vscode": {
   "interpreter": {
    "hash": "1f21d48a53c8726fa09f39098c8b0ae9b7472f6b9979fe4bbdb33be21365443a"
   }
  }
 },
 "nbformat": 4,
 "nbformat_minor": 2
}
